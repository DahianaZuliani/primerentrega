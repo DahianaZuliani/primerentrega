{
  "cells": [
    {
      "cell_type": "markdown",
      "metadata": {
        "id": "view-in-github",
        "colab_type": "text"
      },
      "source": [
        "<a href=\"https://colab.research.google.com/github/DahianaZuliani/primerentrega/blob/main/Visualizacion_Zuliani_Dahiana_.ipynb\" target=\"_parent\"><img src=\"https://colab.research.google.com/assets/colab-badge.svg\" alt=\"Open In Colab\"/></a>"
      ]
    },
    {
      "cell_type": "code",
      "execution_count": null,
      "metadata": {
        "id": "-7zvhxkHDBiV"
      },
      "outputs": [],
      "source": [
        "import pandas as pd\n"
      ]
    },
    {
      "cell_type": "code",
      "execution_count": null,
      "metadata": {
        "colab": {
          "base_uri": "https://localhost:8080/",
          "height": 635
        },
        "id": "HqGlEMcyDUm8",
        "outputId": "5b2196ed-afea-4085-90a8-b08b8ae23da3"
      },
      "outputs": [
        {
          "data": {
            "text/html": [
              "\n",
              "  <div id=\"df-35b5b0c4-8676-485b-926f-c0837780fd96\" class=\"colab-df-container\">\n",
              "    <div>\n",
              "<style scoped>\n",
              "    .dataframe tbody tr th:only-of-type {\n",
              "        vertical-align: middle;\n",
              "    }\n",
              "\n",
              "    .dataframe tbody tr th {\n",
              "        vertical-align: top;\n",
              "    }\n",
              "\n",
              "    .dataframe thead th {\n",
              "        text-align: right;\n",
              "    }\n",
              "</style>\n",
              "<table border=\"1\" class=\"dataframe\">\n",
              "  <thead>\n",
              "    <tr style=\"text-align: right;\">\n",
              "      <th></th>\n",
              "      <th>DATAFLOW</th>\n",
              "      <th>LAST UPDATE</th>\n",
              "      <th>freq</th>\n",
              "      <th>nace_r2</th>\n",
              "      <th>lcstruct</th>\n",
              "      <th>sizeclas</th>\n",
              "      <th>unit</th>\n",
              "      <th>geo</th>\n",
              "      <th>TIME_PERIOD</th>\n",
              "      <th>OBS_VALUE</th>\n",
              "      <th>OBS_FLAG</th>\n",
              "    </tr>\n",
              "  </thead>\n",
              "  <tbody>\n",
              "    <tr>\n",
              "      <th>0</th>\n",
              "      <td>ESTAT:TPS00113(1.0)</td>\n",
              "      <td>08/02/21 23:00:00</td>\n",
              "      <td>A</td>\n",
              "      <td>B-N</td>\n",
              "      <td>D11</td>\n",
              "      <td>GE10</td>\n",
              "      <td>PC</td>\n",
              "      <td>AT</td>\n",
              "      <td>2008</td>\n",
              "      <td>73.7</td>\n",
              "      <td>NaN</td>\n",
              "    </tr>\n",
              "    <tr>\n",
              "      <th>1</th>\n",
              "      <td>ESTAT:TPS00113(1.0)</td>\n",
              "      <td>08/02/21 23:00:00</td>\n",
              "      <td>A</td>\n",
              "      <td>B-N</td>\n",
              "      <td>D11</td>\n",
              "      <td>GE10</td>\n",
              "      <td>PC</td>\n",
              "      <td>AT</td>\n",
              "      <td>2009</td>\n",
              "      <td>73.2</td>\n",
              "      <td>NaN</td>\n",
              "    </tr>\n",
              "    <tr>\n",
              "      <th>2</th>\n",
              "      <td>ESTAT:TPS00113(1.0)</td>\n",
              "      <td>08/02/21 23:00:00</td>\n",
              "      <td>A</td>\n",
              "      <td>B-N</td>\n",
              "      <td>D11</td>\n",
              "      <td>GE10</td>\n",
              "      <td>PC</td>\n",
              "      <td>AT</td>\n",
              "      <td>2010</td>\n",
              "      <td>73.4</td>\n",
              "      <td>NaN</td>\n",
              "    </tr>\n",
              "    <tr>\n",
              "      <th>3</th>\n",
              "      <td>ESTAT:TPS00113(1.0)</td>\n",
              "      <td>08/02/21 23:00:00</td>\n",
              "      <td>A</td>\n",
              "      <td>B-N</td>\n",
              "      <td>D11</td>\n",
              "      <td>GE10</td>\n",
              "      <td>PC</td>\n",
              "      <td>AT</td>\n",
              "      <td>2011</td>\n",
              "      <td>NaN</td>\n",
              "      <td>c</td>\n",
              "    </tr>\n",
              "    <tr>\n",
              "      <th>4</th>\n",
              "      <td>ESTAT:TPS00113(1.0)</td>\n",
              "      <td>08/02/21 23:00:00</td>\n",
              "      <td>A</td>\n",
              "      <td>B-N</td>\n",
              "      <td>D11</td>\n",
              "      <td>GE10</td>\n",
              "      <td>PC</td>\n",
              "      <td>BE</td>\n",
              "      <td>2008</td>\n",
              "      <td>68.2</td>\n",
              "      <td>NaN</td>\n",
              "    </tr>\n",
              "    <tr>\n",
              "      <th>...</th>\n",
              "      <td>...</td>\n",
              "      <td>...</td>\n",
              "      <td>...</td>\n",
              "      <td>...</td>\n",
              "      <td>...</td>\n",
              "      <td>...</td>\n",
              "      <td>...</td>\n",
              "      <td>...</td>\n",
              "      <td>...</td>\n",
              "      <td>...</td>\n",
              "      <td>...</td>\n",
              "    </tr>\n",
              "    <tr>\n",
              "      <th>141</th>\n",
              "      <td>ESTAT:TPS00113(1.0)</td>\n",
              "      <td>08/02/21 23:00:00</td>\n",
              "      <td>A</td>\n",
              "      <td>B-N</td>\n",
              "      <td>D11</td>\n",
              "      <td>TOTAL</td>\n",
              "      <td>PC</td>\n",
              "      <td>SK</td>\n",
              "      <td>2011</td>\n",
              "      <td>74.2</td>\n",
              "      <td>NaN</td>\n",
              "    </tr>\n",
              "    <tr>\n",
              "      <th>142</th>\n",
              "      <td>ESTAT:TPS00113(1.0)</td>\n",
              "      <td>08/02/21 23:00:00</td>\n",
              "      <td>A</td>\n",
              "      <td>B-N</td>\n",
              "      <td>D11</td>\n",
              "      <td>TOTAL</td>\n",
              "      <td>PC</td>\n",
              "      <td>UK</td>\n",
              "      <td>2008</td>\n",
              "      <td>85.9</td>\n",
              "      <td>NaN</td>\n",
              "    </tr>\n",
              "    <tr>\n",
              "      <th>143</th>\n",
              "      <td>ESTAT:TPS00113(1.0)</td>\n",
              "      <td>08/02/21 23:00:00</td>\n",
              "      <td>A</td>\n",
              "      <td>B-N</td>\n",
              "      <td>D11</td>\n",
              "      <td>TOTAL</td>\n",
              "      <td>PC</td>\n",
              "      <td>UK</td>\n",
              "      <td>2009</td>\n",
              "      <td>85.7</td>\n",
              "      <td>NaN</td>\n",
              "    </tr>\n",
              "    <tr>\n",
              "      <th>144</th>\n",
              "      <td>ESTAT:TPS00113(1.0)</td>\n",
              "      <td>08/02/21 23:00:00</td>\n",
              "      <td>A</td>\n",
              "      <td>B-N</td>\n",
              "      <td>D11</td>\n",
              "      <td>TOTAL</td>\n",
              "      <td>PC</td>\n",
              "      <td>UK</td>\n",
              "      <td>2010</td>\n",
              "      <td>85.9</td>\n",
              "      <td>NaN</td>\n",
              "    </tr>\n",
              "    <tr>\n",
              "      <th>145</th>\n",
              "      <td>ESTAT:TPS00113(1.0)</td>\n",
              "      <td>08/02/21 23:00:00</td>\n",
              "      <td>A</td>\n",
              "      <td>B-N</td>\n",
              "      <td>D11</td>\n",
              "      <td>TOTAL</td>\n",
              "      <td>PC</td>\n",
              "      <td>UK</td>\n",
              "      <td>2011</td>\n",
              "      <td>85.9</td>\n",
              "      <td>NaN</td>\n",
              "    </tr>\n",
              "  </tbody>\n",
              "</table>\n",
              "<p>146 rows × 11 columns</p>\n",
              "</div>\n",
              "    <div class=\"colab-df-buttons\">\n",
              "\n",
              "  <div class=\"colab-df-container\">\n",
              "    <button class=\"colab-df-convert\" onclick=\"convertToInteractive('df-35b5b0c4-8676-485b-926f-c0837780fd96')\"\n",
              "            title=\"Convert this dataframe to an interactive table.\"\n",
              "            style=\"display:none;\">\n",
              "\n",
              "  <svg xmlns=\"http://www.w3.org/2000/svg\" height=\"24px\" viewBox=\"0 -960 960 960\">\n",
              "    <path d=\"M120-120v-720h720v720H120Zm60-500h600v-160H180v160Zm220 220h160v-160H400v160Zm0 220h160v-160H400v160ZM180-400h160v-160H180v160Zm440 0h160v-160H620v160ZM180-180h160v-160H180v160Zm440 0h160v-160H620v160Z\"/>\n",
              "  </svg>\n",
              "    </button>\n",
              "\n",
              "  <style>\n",
              "    .colab-df-container {\n",
              "      display:flex;\n",
              "      gap: 12px;\n",
              "    }\n",
              "\n",
              "    .colab-df-convert {\n",
              "      background-color: #E8F0FE;\n",
              "      border: none;\n",
              "      border-radius: 50%;\n",
              "      cursor: pointer;\n",
              "      display: none;\n",
              "      fill: #1967D2;\n",
              "      height: 32px;\n",
              "      padding: 0 0 0 0;\n",
              "      width: 32px;\n",
              "    }\n",
              "\n",
              "    .colab-df-convert:hover {\n",
              "      background-color: #E2EBFA;\n",
              "      box-shadow: 0px 1px 2px rgba(60, 64, 67, 0.3), 0px 1px 3px 1px rgba(60, 64, 67, 0.15);\n",
              "      fill: #174EA6;\n",
              "    }\n",
              "\n",
              "    .colab-df-buttons div {\n",
              "      margin-bottom: 4px;\n",
              "    }\n",
              "\n",
              "    [theme=dark] .colab-df-convert {\n",
              "      background-color: #3B4455;\n",
              "      fill: #D2E3FC;\n",
              "    }\n",
              "\n",
              "    [theme=dark] .colab-df-convert:hover {\n",
              "      background-color: #434B5C;\n",
              "      box-shadow: 0px 1px 3px 1px rgba(0, 0, 0, 0.15);\n",
              "      filter: drop-shadow(0px 1px 2px rgba(0, 0, 0, 0.3));\n",
              "      fill: #FFFFFF;\n",
              "    }\n",
              "  </style>\n",
              "\n",
              "    <script>\n",
              "      const buttonEl =\n",
              "        document.querySelector('#df-35b5b0c4-8676-485b-926f-c0837780fd96 button.colab-df-convert');\n",
              "      buttonEl.style.display =\n",
              "        google.colab.kernel.accessAllowed ? 'block' : 'none';\n",
              "\n",
              "      async function convertToInteractive(key) {\n",
              "        const element = document.querySelector('#df-35b5b0c4-8676-485b-926f-c0837780fd96');\n",
              "        const dataTable =\n",
              "          await google.colab.kernel.invokeFunction('convertToInteractive',\n",
              "                                                    [key], {});\n",
              "        if (!dataTable) return;\n",
              "\n",
              "        const docLinkHtml = 'Like what you see? Visit the ' +\n",
              "          '<a target=\"_blank\" href=https://colab.research.google.com/notebooks/data_table.ipynb>data table notebook</a>'\n",
              "          + ' to learn more about interactive tables.';\n",
              "        element.innerHTML = '';\n",
              "        dataTable['output_type'] = 'display_data';\n",
              "        await google.colab.output.renderOutput(dataTable, element);\n",
              "        const docLink = document.createElement('div');\n",
              "        docLink.innerHTML = docLinkHtml;\n",
              "        element.appendChild(docLink);\n",
              "      }\n",
              "    </script>\n",
              "  </div>\n",
              "\n",
              "\n",
              "<div id=\"df-8e1bfe20-aae0-47a4-9cd3-96b562be72a4\">\n",
              "  <button class=\"colab-df-quickchart\" onclick=\"quickchart('df-8e1bfe20-aae0-47a4-9cd3-96b562be72a4')\"\n",
              "            title=\"Suggest charts.\"\n",
              "            style=\"display:none;\">\n",
              "\n",
              "<svg xmlns=\"http://www.w3.org/2000/svg\" height=\"24px\"viewBox=\"0 0 24 24\"\n",
              "     width=\"24px\">\n",
              "    <g>\n",
              "        <path d=\"M19 3H5c-1.1 0-2 .9-2 2v14c0 1.1.9 2 2 2h14c1.1 0 2-.9 2-2V5c0-1.1-.9-2-2-2zM9 17H7v-7h2v7zm4 0h-2V7h2v10zm4 0h-2v-4h2v4z\"/>\n",
              "    </g>\n",
              "</svg>\n",
              "  </button>\n",
              "\n",
              "<style>\n",
              "  .colab-df-quickchart {\n",
              "      --bg-color: #E8F0FE;\n",
              "      --fill-color: #1967D2;\n",
              "      --hover-bg-color: #E2EBFA;\n",
              "      --hover-fill-color: #174EA6;\n",
              "      --disabled-fill-color: #AAA;\n",
              "      --disabled-bg-color: #DDD;\n",
              "  }\n",
              "\n",
              "  [theme=dark] .colab-df-quickchart {\n",
              "      --bg-color: #3B4455;\n",
              "      --fill-color: #D2E3FC;\n",
              "      --hover-bg-color: #434B5C;\n",
              "      --hover-fill-color: #FFFFFF;\n",
              "      --disabled-bg-color: #3B4455;\n",
              "      --disabled-fill-color: #666;\n",
              "  }\n",
              "\n",
              "  .colab-df-quickchart {\n",
              "    background-color: var(--bg-color);\n",
              "    border: none;\n",
              "    border-radius: 50%;\n",
              "    cursor: pointer;\n",
              "    display: none;\n",
              "    fill: var(--fill-color);\n",
              "    height: 32px;\n",
              "    padding: 0;\n",
              "    width: 32px;\n",
              "  }\n",
              "\n",
              "  .colab-df-quickchart:hover {\n",
              "    background-color: var(--hover-bg-color);\n",
              "    box-shadow: 0 1px 2px rgba(60, 64, 67, 0.3), 0 1px 3px 1px rgba(60, 64, 67, 0.15);\n",
              "    fill: var(--button-hover-fill-color);\n",
              "  }\n",
              "\n",
              "  .colab-df-quickchart-complete:disabled,\n",
              "  .colab-df-quickchart-complete:disabled:hover {\n",
              "    background-color: var(--disabled-bg-color);\n",
              "    fill: var(--disabled-fill-color);\n",
              "    box-shadow: none;\n",
              "  }\n",
              "\n",
              "  .colab-df-spinner {\n",
              "    border: 2px solid var(--fill-color);\n",
              "    border-color: transparent;\n",
              "    border-bottom-color: var(--fill-color);\n",
              "    animation:\n",
              "      spin 1s steps(1) infinite;\n",
              "  }\n",
              "\n",
              "  @keyframes spin {\n",
              "    0% {\n",
              "      border-color: transparent;\n",
              "      border-bottom-color: var(--fill-color);\n",
              "      border-left-color: var(--fill-color);\n",
              "    }\n",
              "    20% {\n",
              "      border-color: transparent;\n",
              "      border-left-color: var(--fill-color);\n",
              "      border-top-color: var(--fill-color);\n",
              "    }\n",
              "    30% {\n",
              "      border-color: transparent;\n",
              "      border-left-color: var(--fill-color);\n",
              "      border-top-color: var(--fill-color);\n",
              "      border-right-color: var(--fill-color);\n",
              "    }\n",
              "    40% {\n",
              "      border-color: transparent;\n",
              "      border-right-color: var(--fill-color);\n",
              "      border-top-color: var(--fill-color);\n",
              "    }\n",
              "    60% {\n",
              "      border-color: transparent;\n",
              "      border-right-color: var(--fill-color);\n",
              "    }\n",
              "    80% {\n",
              "      border-color: transparent;\n",
              "      border-right-color: var(--fill-color);\n",
              "      border-bottom-color: var(--fill-color);\n",
              "    }\n",
              "    90% {\n",
              "      border-color: transparent;\n",
              "      border-bottom-color: var(--fill-color);\n",
              "    }\n",
              "  }\n",
              "</style>\n",
              "\n",
              "  <script>\n",
              "    async function quickchart(key) {\n",
              "      const quickchartButtonEl =\n",
              "        document.querySelector('#' + key + ' button');\n",
              "      quickchartButtonEl.disabled = true;  // To prevent multiple clicks.\n",
              "      quickchartButtonEl.classList.add('colab-df-spinner');\n",
              "      try {\n",
              "        const charts = await google.colab.kernel.invokeFunction(\n",
              "            'suggestCharts', [key], {});\n",
              "      } catch (error) {\n",
              "        console.error('Error during call to suggestCharts:', error);\n",
              "      }\n",
              "      quickchartButtonEl.classList.remove('colab-df-spinner');\n",
              "      quickchartButtonEl.classList.add('colab-df-quickchart-complete');\n",
              "    }\n",
              "    (() => {\n",
              "      let quickchartButtonEl =\n",
              "        document.querySelector('#df-8e1bfe20-aae0-47a4-9cd3-96b562be72a4 button');\n",
              "      quickchartButtonEl.style.display =\n",
              "        google.colab.kernel.accessAllowed ? 'block' : 'none';\n",
              "    })();\n",
              "  </script>\n",
              "</div>\n",
              "    </div>\n",
              "  </div>\n"
            ],
            "text/plain": [
              "                DATAFLOW        LAST UPDATE freq nace_r2 lcstruct sizeclas  \\\n",
              "0    ESTAT:TPS00113(1.0)  08/02/21 23:00:00    A     B-N      D11     GE10   \n",
              "1    ESTAT:TPS00113(1.0)  08/02/21 23:00:00    A     B-N      D11     GE10   \n",
              "2    ESTAT:TPS00113(1.0)  08/02/21 23:00:00    A     B-N      D11     GE10   \n",
              "3    ESTAT:TPS00113(1.0)  08/02/21 23:00:00    A     B-N      D11     GE10   \n",
              "4    ESTAT:TPS00113(1.0)  08/02/21 23:00:00    A     B-N      D11     GE10   \n",
              "..                   ...                ...  ...     ...      ...      ...   \n",
              "141  ESTAT:TPS00113(1.0)  08/02/21 23:00:00    A     B-N      D11    TOTAL   \n",
              "142  ESTAT:TPS00113(1.0)  08/02/21 23:00:00    A     B-N      D11    TOTAL   \n",
              "143  ESTAT:TPS00113(1.0)  08/02/21 23:00:00    A     B-N      D11    TOTAL   \n",
              "144  ESTAT:TPS00113(1.0)  08/02/21 23:00:00    A     B-N      D11    TOTAL   \n",
              "145  ESTAT:TPS00113(1.0)  08/02/21 23:00:00    A     B-N      D11    TOTAL   \n",
              "\n",
              "    unit geo  TIME_PERIOD  OBS_VALUE OBS_FLAG  \n",
              "0     PC  AT         2008       73.7      NaN  \n",
              "1     PC  AT         2009       73.2      NaN  \n",
              "2     PC  AT         2010       73.4      NaN  \n",
              "3     PC  AT         2011        NaN        c  \n",
              "4     PC  BE         2008       68.2      NaN  \n",
              "..   ...  ..          ...        ...      ...  \n",
              "141   PC  SK         2011       74.2      NaN  \n",
              "142   PC  UK         2008       85.9      NaN  \n",
              "143   PC  UK         2009       85.7      NaN  \n",
              "144   PC  UK         2010       85.9      NaN  \n",
              "145   PC  UK         2011       85.9      NaN  \n",
              "\n",
              "[146 rows x 11 columns]"
            ]
          },
          "execution_count": 6,
          "metadata": {},
          "output_type": "execute_result"
        }
      ],
      "source": [
        "pd.read_csv('Dataset2023.csv')"
      ]
    },
    {
      "cell_type": "code",
      "execution_count": null,
      "metadata": {
        "id": "e4ioaDTPtzbf"
      },
      "outputs": [],
      "source": []
    },
    {
      "cell_type": "code",
      "execution_count": null,
      "metadata": {
        "colab": {
          "base_uri": "https://localhost:8080/",
          "height": 448
        },
        "id": "3qYXMRi2EUnY",
        "outputId": "90f1770d-d7bf-468e-81d1-f68b55d44b50"
      },
      "outputs": [
        {
          "data": {
            "text/plain": [
              "<Axes: >"
            ]
          },
          "execution_count": 11,
          "metadata": {},
          "output_type": "execute_result"
        },
        {
          "data": {
            "image/png": "[encoded data removed]",
            "text/plain": [
              "<Figure size 640x480 with 1 Axes>"
            ]
          },
          "metadata": {},
          "output_type": "display_data"
        }
      ],
      "source": [
        "tabla.geo.hist()"
      ]
    },
    {
      "cell_type": "code",
      "execution_count": null,
      "metadata": {
        "id": "4sZ107j7Fxft"
      },
      "outputs": [],
      "source": [
        "import matplotlib.pyplot as plt\n"
      ]
    },
    {
      "cell_type": "code",
      "execution_count": null,
      "metadata": {
        "colab": {
          "base_uri": "https://localhost:8080/"
        },
        "id": "PVu5cLjCG4ZD",
        "outputId": "c6b668d1-3e15-46cf-ea6e-51625250094c"
      },
      "outputs": [
        {
          "data": {
            "text/plain": [
              "LT    8\n",
              "BG    8\n",
              "CZ    8\n",
              "NL    8\n",
              "SI    8\n",
              "UK    8\n",
              "ES    8\n",
              "LV    8\n",
              "IE    8\n",
              "SK    7\n",
              "RO    7\n",
              "PT    6\n",
              "HU    5\n",
              "SE    4\n",
              "LU    4\n",
              "AT    4\n",
              "BE    4\n",
              "FI    4\n",
              "DK    4\n",
              "DE    4\n",
              "CY    4\n",
              "HR    4\n",
              "EE    3\n",
              "FR    3\n",
              "MT    2\n",
              "CH    2\n",
              "PL    1\n",
              "EL    1\n",
              "IT    1\n",
              "Name: geo, dtype: int64"
            ]
          },
          "execution_count": 20,
          "metadata": {},
          "output_type": "execute_result"
        }
      ],
      "source": [
        "tabla.geo.value_counts()"
      ]
    },
    {
      "cell_type": "code",
      "execution_count": null,
      "metadata": {
        "id": "zDeLx792INXY"
      },
      "outputs": [],
      "source": [
        "valores=tabla.geo.value_counts()"
      ]
    },
    {
      "cell_type": "code",
      "execution_count": null,
      "metadata": {
        "colab": {
          "base_uri": "https://localhost:8080/"
        },
        "id": "eYSr6umhIcd_",
        "outputId": "98e55c15-fc1f-456f-c3b8-e49ab1e4e4b6"
      },
      "outputs": [
        {
          "data": {
            "text/plain": [
              "pandas.core.series.Series"
            ]
          },
          "execution_count": 22,
          "metadata": {},
          "output_type": "execute_result"
        }
      ],
      "source": [
        "type(valores)"
      ]
    },
    {
      "cell_type": "code",
      "execution_count": null,
      "metadata": {
        "colab": {
          "base_uri": "https://localhost:8080/"
        },
        "id": "14ZNpljwIpBQ",
        "outputId": "6b10323d-324f-4d29-d048-c67ad9801a48"
      },
      "outputs": [
        {
          "data": {
            "text/plain": [
              "Index(['LT', 'BG', 'CZ', 'NL', 'SI', 'UK', 'ES', 'LV', 'IE', 'SK', 'RO', 'PT',\n",
              "       'HU', 'SE', 'LU', 'AT', 'BE', 'FI', 'DK', 'DE', 'CY', 'HR', 'EE', 'FR',\n",
              "       'MT', 'CH', 'PL', 'EL', 'IT'],\n",
              "      dtype='object')"
            ]
          },
          "execution_count": 23,
          "metadata": {},
          "output_type": "execute_result"
        }
      ],
      "source": [
        "valores.index"
      ]
    },
    {
      "cell_type": "code",
      "execution_count": null,
      "metadata": {
        "colab": {
          "base_uri": "https://localhost:8080/"
        },
        "id": "bulNdTaIJI3l",
        "outputId": "76f7b736-3ac7-4dc1-8d33-088fb4a82dd9"
      },
      "outputs": [
        {
          "data": {
            "text/plain": [
              "array([8, 8, 8, 8, 8, 8, 8, 8, 8, 7, 7, 6, 5, 4, 4, 4, 4, 4, 4, 4, 4, 4,\n",
              "       3, 3, 2, 2, 1, 1, 1])"
            ]
          },
          "execution_count": 24,
          "metadata": {},
          "output_type": "execute_result"
        }
      ],
      "source": [
        "valores.values"
      ]
    },
    {
      "cell_type": "code",
      "execution_count": null,
      "metadata": {
        "colab": {
          "base_uri": "https://localhost:8080/",
          "height": 448
        },
        "id": "FEdVzb_aJf8l",
        "outputId": "8448f8c9-af47-4d03-bf40-cc26b77f9551"
      },
      "outputs": [
        {
          "data": {
            "text/plain": [
              "<BarContainer object of 29 artists>"
            ]
          },
          "execution_count": 29,
          "metadata": {},
          "output_type": "execute_result"
        },
        {
          "data": {
            "image/png": "[encoded data removed]",
            "text/plain": [
              "<Figure size 640x480 with 1 Axes>"
            ]
          },
          "metadata": {},
          "output_type": "display_data"
        }
      ],
      "source": [
        "plt.bar(x=valores.index, height=valores.values)\n"
      ]
    },
    {
      "cell_type": "code",
      "execution_count": null,
      "metadata": {
        "colab": {
          "base_uri": "https://localhost:8080/",
          "height": 1000
        },
        "id": "3IrHCWuCKZoM",
        "outputId": "8b8a3838-fd47-429a-a350-aa4182ddc411"
      },
      "outputs": [
        {
          "data": {
            "text/plain": [
              "([0,\n",
              "  1,\n",
              "  2,\n",
              "  3,\n",
              "  4,\n",
              "  5,\n",
              "  6,\n",
              "  7,\n",
              "  8,\n",
              "  9,\n",
              "  10,\n",
              "  11,\n",
              "  12,\n",
              "  13,\n",
              "  14,\n",
              "  15,\n",
              "  16,\n",
              "  17,\n",
              "  18,\n",
              "  19,\n",
              "  20,\n",
              "  21,\n",
              "  22,\n",
              "  23,\n",
              "  24,\n",
              "  25,\n",
              "  26,\n",
              "  27,\n",
              "  28],\n",
              " [Text(0, 0, 'LT'),\n",
              "  Text(1, 0, 'BG'),\n",
              "  Text(2, 0, 'CZ'),\n",
              "  Text(3, 0, 'NL'),\n",
              "  Text(4, 0, 'SI'),\n",
              "  Text(5, 0, 'UK'),\n",
              "  Text(6, 0, 'ES'),\n",
              "  Text(7, 0, 'LV'),\n",
              "  Text(8, 0, 'IE'),\n",
              "  Text(9, 0, 'SK'),\n",
              "  Text(10, 0, 'RO'),\n",
              "  Text(11, 0, 'PT'),\n",
              "  Text(12, 0, 'HU'),\n",
              "  Text(13, 0, 'SE'),\n",
              "  Text(14, 0, 'LU'),\n",
              "  Text(15, 0, 'AT'),\n",
              "  Text(16, 0, 'BE'),\n",
              "  Text(17, 0, 'FI'),\n",
              "  Text(18, 0, 'DK'),\n",
              "  Text(19, 0, 'DE'),\n",
              "  Text(20, 0, 'CY'),\n",
              "  Text(21, 0, 'HR'),\n",
              "  Text(22, 0, 'EE'),\n",
              "  Text(23, 0, 'FR'),\n",
              "  Text(24, 0, 'MT'),\n",
              "  Text(25, 0, 'CH'),\n",
              "  Text(26, 0, 'PL'),\n",
              "  Text(27, 0, 'EL'),\n",
              "  Text(28, 0, 'IT')])"
            ]
          },
          "execution_count": 30,
          "metadata": {},
          "output_type": "execute_result"
        },
        {
          "data": {
            "image/png": "[encoded data removed]",
            "text/plain": [
              "<Figure size 640x480 with 1 Axes>"
            ]
          },
          "metadata": {},
          "output_type": "display_data"
        }
      ],
      "source": [
        "plt.bar(x=valores.index, height=valores.values)\n",
        "plt.xticks(rotation='vertical')"
      ]
    },
    {
      "cell_type": "code",
      "execution_count": null,
      "metadata": {
        "colab": {
          "base_uri": "https://localhost:8080/",
          "height": 496
        },
        "id": "W1bnVorNKXnL",
        "outputId": "742d517a-039a-4512-f4b9-a12fe07fedc2"
      },
      "outputs": [
        {
          "data": {
            "text/plain": [
              "Text(0, 0.5, 'cantidad de personas')"
            ]
          },
          "execution_count": 33,
          "metadata": {},
          "output_type": "execute_result"
        },
        {
          "data": {
            "image/png": "[encoded data removed]",
            "text/plain": [
              "<Figure size 640x480 with 1 Axes>"
            ]
          },
          "metadata": {},
          "output_type": "display_data"
        }
      ],
      "source": [
        "plt.bar(x=valores.index, height=valores.values)\n",
        "plt.xticks(rotation='vertical')\n",
        "plt.title('Localizacion de personas por pais')\n",
        "plt.xlabel('paises')\n",
        "plt.ylabel('cantidad de personas')"
      ]
    }
  ],
  "metadata": {
    "colab": {
      "provenance": [],
      "include_colab_link": true
    },
    "kernelspec": {
      "display_name": "Python 3",
      "name": "python3"
    },
    "language_info": {
      "name": "python"
    }
  },
  "nbformat": 4,
  "nbformat_minor": 0
}